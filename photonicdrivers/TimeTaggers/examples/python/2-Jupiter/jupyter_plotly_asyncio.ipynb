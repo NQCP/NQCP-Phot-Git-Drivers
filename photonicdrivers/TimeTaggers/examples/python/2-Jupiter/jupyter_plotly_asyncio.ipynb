{
 "cells": [
  {
   "cell_type": "markdown",
   "metadata": {},
   "source": [
    "# Live plots of Time Tagger measurements in a jupyter notebook\n",
    "\n",
    "This jupyter notebook gives an example how to show live plots of Time Tagger Measurements. As an example, we enable the internal test signal and continuously plot the countrate.\n",
    "\n",
    "### Idea\n",
    "\n",
    "We use **plotly** for the plotting as it integrates nicely with the javascript side of jupyter and has better live plotting capabilities than matplotlib.\n",
    "\n",
    "We use **asyncio** for background plot updates for its ease of use.\n",
    "\n",
    "### Installation\n",
    "\n",
    "Install __[anaconda python](https://www.anaconda.com/distribution/)__\n",
    "\n",
    "Install jupyter, plotly, nodejs\n",
    "\n",
    "```\n",
    "conda install jupyter\n",
    "conda install plotly (version>=5.20.0)\n",
    "conda install nodejs\n",
    "conda install ipywidgets (version>=8.0.0)\n",
    "```\n",
    "\n",
    "If you want to use jupyter lab, you may need to install jupyterlab extensions for plotly following the README on __[https://github.com/plotly/plotly.py](https://github.com/plotly/plotly.py)__\n"
   ]
  },
  {
   "cell_type": "code",
   "execution_count": null,
   "metadata": {},
   "outputs": [],
   "source": [
    "from TimeTagger import *\n",
    "\n",
    "import pkg_resources\n",
    "import asyncio\n",
    "import numpy as np\n",
    "if (pkg_resources.require(\"ipywidgets>=8.0.0\") and pkg_resources.require(\"plotly>=5.20.0\")):\n",
    "    from ipywidgets import Button\n",
    "    import plotly.graph_objs as go"
   ]
  },
  {
   "cell_type": "markdown",
   "metadata": {},
   "source": [
    "Connect to the TimeTagger and enable the internal test signal on channel 1"
   ]
  },
  {
   "cell_type": "code",
   "execution_count": null,
   "metadata": {},
   "outputs": [],
   "source": [
    "# connect to the TimeTagger\n",
    "tagger = createTimeTagger()\n",
    "\n",
    "# enable the internal test signal on channels \n",
    "tagger.setTestSignal(1, True)"
   ]
  },
  {
   "cell_type": "markdown",
   "metadata": {},
   "source": [
    "Create a plot and mechanisms to update it in the background"
   ]
  },
  {
   "cell_type": "code",
   "execution_count": null,
   "metadata": {},
   "outputs": [],
   "source": [
    "# create a counter with 100 ms binwidth and one bin and \n",
    "trace = Counter(tagger, [1], 10**9, 1000)\n",
    "\n",
    "# create a figure widget and a plot\n",
    "fig_trace = go.FigureWidget()\n",
    "fig_trace.add_scatter(x=trace.getIndex(), y=trace.getData()[0])\n",
    "\n",
    "async def update_trace():\n",
    "    \"\"\"Update the plot every 0.1 s\"\"\"\n",
    "    while True:\n",
    "        fig_trace.data[0].y = trace.getData()[0]\n",
    "        await asyncio.sleep(0.1)\n",
    "\n",
    "# If this cell is re-excecuted and there was a previous task, stop it first to avoid a dead daemon\n",
    "try:\n",
    "    task_trace.cancel()\n",
    "except:\n",
    "    pass\n",
    "loop = asyncio.get_event_loop()\n",
    "task_trace = loop.create_task(update_trace())\n",
    "    \n",
    "# create a stop button\n",
    "button_trace = Button(description='stop')\n",
    "button_trace.on_click(lambda a: task_trace.cancel())\n",
    "\n",
    "display(fig_trace,button_trace)\n"
   ]
  },
  {
   "cell_type": "markdown",
   "metadata": {},
   "source": [
    "You can stop the background plotting either by clicking on the stop button above or by executing `task_trace.cancel()`"
   ]
  },
  {
   "cell_type": "markdown",
   "metadata": {},
   "source": [
    "In the next example we produce a bar plot by using a countrate with only one bin."
   ]
  },
  {
   "cell_type": "code",
   "execution_count": null,
   "metadata": {},
   "outputs": [],
   "source": [
    "# create a counter with 100 ms binwidth and one bin and \n",
    "point = Counter(tagger, [1], 10**11, 1)\n",
    "\n",
    "# create a figure widget and a plot\n",
    "fig_bar = go.FigureWidget()\n",
    "fig_bar.add_bar(x=point.getIndex(), y=point.getData()[0])\n",
    "fig_bar.layout.yaxis={'range':[0,100000]}\n",
    "\n",
    "async def update_bar():\n",
    "    \"\"\"Update the plot every 0.1 s\"\"\"\n",
    "    while True:\n",
    "        fig_bar.data[0].y = point.getData()[0]\n",
    "        await asyncio.sleep(0.1)\n",
    "\n",
    "# If this cell is re-excecuted and there was a previous task, stop it first to avoid a dead daemon\n",
    "try:\n",
    "    task_bar.cancel()\n",
    "except:\n",
    "    pass\n",
    "loop = asyncio.get_event_loop()\n",
    "task_bar = loop.create_task(update_bar())\n",
    "\n",
    "# create a stop button\n",
    "button_bar = Button(description='stop')\n",
    "button_bar.on_click(lambda a: task_bar.cancel())\n",
    "\n",
    "display(fig_bar, button_bar)\n"
   ]
  }
 ],
 "metadata": {
  "kernelspec": {
   "display_name": "Python 3 (ipykernel)",
   "language": "python",
   "name": "python3"
  },
  "language_info": {
   "codemirror_mode": {
    "name": "ipython",
    "version": 3
   },
   "file_extension": ".py",
   "mimetype": "text/x-python",
   "name": "python",
   "nbconvert_exporter": "python",
   "pygments_lexer": "ipython3",
   "version": "3.11.5"
  }
 },
 "nbformat": 4,
 "nbformat_minor": 2
}
