{
 "cells": [
  {
   "cell_type": "code",
   "execution_count": null,
   "id": "ad69911d",
   "metadata": {},
   "outputs": [],
   "source": [
    "import matplotlib.pyplot as plt\n",
    "from photonicdrivers.Cameras.AtlasCamera_Driver import AtlasCamera_Driver\n",
    "import cv2\n",
    "import time"
   ]
  },
  {
   "cell_type": "code",
   "execution_count": null,
   "id": "df1f6146",
   "metadata": {},
   "outputs": [],
   "source": [
    "frame_delay_ms = 100\n",
    "cam = AtlasCamera_Driver(\"10.209.64.41\")\n",
    "# Clean up any past runs. Necessary for driver to work properly.\n",
    "cam.disconnect()\n",
    "cam.connect()\n",
    "t = time.time()\n",
    "img = cam.capture_image()\n",
    "plt.imshow(img, cmap='gray')\n",
    "plt.show()\n",
    "for i in range(100):\n",
    "    img = cam.capture_image()\n",
    "    cv2.imshow(\"Image\", img)\n",
    "    key = cv2.waitKey(frame_delay_ms) & 0xFF\n",
    "    if key == ord(\"q\"):  # Check if 'q' key was pressed\n",
    "        print(\"'q' pressed. Exiting video playback.\")\n",
    "        break\n",
    "\n",
    "print(time.time() - t)\n",
    "cam.disconnect()\n",
    "cv2.destroyAllWindows()"
   ]
  }
 ],
 "metadata": {
  "kernelspec": {
   "display_name": "base",
   "language": "python",
   "name": "python3"
  },
  "language_info": {
   "codemirror_mode": {
    "name": "ipython",
    "version": 3
   },
   "file_extension": ".py",
   "mimetype": "text/x-python",
   "name": "python",
   "nbconvert_exporter": "python",
   "pygments_lexer": "ipython3",
   "version": "3.12.3"
  }
 },
 "nbformat": 4,
 "nbformat_minor": 5
}
