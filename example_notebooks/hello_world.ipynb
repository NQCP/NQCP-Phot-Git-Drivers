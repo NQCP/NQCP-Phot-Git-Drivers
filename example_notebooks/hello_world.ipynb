{
 "cells": [
  {
   "cell_type": "markdown",
   "metadata": {},
   "source": [
    "# Hello, world!\n",
    "\n",
    "This notebook shows you how get a friendly greeting from photonicdrivers."
   ]
  },
  {
   "cell_type": "code",
   "execution_count": 1,
   "metadata": {
    "execution": {
     "iopub.execute_input": "2024-04-30T08:59:17.592276Z",
     "iopub.status.busy": "2024-04-30T08:59:17.592068Z",
     "iopub.status.idle": "2024-04-30T08:59:17.639174Z",
     "shell.execute_reply": "2024-04-30T08:59:17.638420Z"
    }
   },
   "outputs": [],
   "source": [
    "from photonicdrivers.hello_world import hello_world, greeter"
   ]
  },
  {
   "cell_type": "code",
   "execution_count": 2,
   "metadata": {
    "execution": {
     "iopub.execute_input": "2024-04-30T08:59:17.642685Z",
     "iopub.status.busy": "2024-04-30T08:59:17.642206Z",
     "iopub.status.idle": "2024-04-30T08:59:17.648228Z",
     "shell.execute_reply": "2024-04-30T08:59:17.647523Z"
    }
   },
   "outputs": [
    {
     "name": "stdout",
     "output_type": "stream",
     "text": [
      "Hello, you!\n",
      "and\n",
      "Hello, world! from photonicdrivers\n"
     ]
    }
   ],
   "source": [
    "name = \"you\"\n",
    "print(greeter(name))\n",
    "print(\"and\")\n",
    "hello_world()"
   ]
  }
 ],
 "metadata": {
  "kernelspec": {
   "display_name": "Python 3",
   "language": "python",
   "name": "python3"
  },
  "language_info": {
   "codemirror_mode": {
    "name": "ipython",
    "version": 3
   },
   "file_extension": ".py",
   "mimetype": "text/x-python",
   "name": "python",
   "nbconvert_exporter": "python",
   "pygments_lexer": "ipython3",
   "version": "3.10.14"
  }
 },
 "nbformat": 4,
 "nbformat_minor": 4
}
